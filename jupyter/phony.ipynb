{
 "cells": [
  {
   "cell_type": "code",
   "execution_count": 4,
   "metadata": {},
   "outputs": [],
   "source": [
    "import tensorflow as tf\n",
    "from tensorflow.keras import layers\n",
    "import numpy as np\n",
    "import json"
   ]
  },
  {
   "cell_type": "code",
   "execution_count": 29,
   "metadata": {},
   "outputs": [],
   "source": [
    "from keras.models import Sequential, Model\n",
    "from keras.layers import Dense, Embedding, Input, Conv1D, Flatten, Dropout, Concatenate\n",
    "import array"
   ]
  },
  {
   "cell_type": "code",
   "execution_count": 6,
   "metadata": {},
   "outputs": [],
   "source": [
    "samples = []\n",
    "\n",
    "with open('./sample_materialized.txt', encoding='utf8') as f:\n",
    "    for line in f:\n",
    "        samples.append(json.loads(line.strip()))"
   ]
  },
  {
   "cell_type": "code",
   "execution_count": 7,
   "metadata": {},
   "outputs": [],
   "source": [
    "def onehot(idx, l=3):\n",
    "    result = [0] * 3\n",
    "    result[idx] = 1\n",
    "    return result\n",
    "\n",
    "def sample2vec(text, phone, l=64):\n",
    "    x = [i for i in text.encode('cp1251')]\n",
    "    x = x + [0] * (l - len(x))\n",
    "    idx = text.index(phone)\n",
    "    if idx < 0:\n",
    "        raise ValueError\n",
    "    y = ([0] * idx) + ([2]) + ([1] * (len(phone) - 1)) + ([0] * (l - idx - len(phone)))\n",
    "    return (x, [onehot(i, l=3) for i in y])"
   ]
  },
  {
   "cell_type": "code",
   "execution_count": 8,
   "metadata": {},
   "outputs": [],
   "source": [
    "def json2vec(sample, l=64, start=None):\n",
    "    text = sample['message']\n",
    "    \n",
    "    chars = [i for i in text.encode('cp1251')]\n",
    "    y = np.zeros(len(chars))\n",
    "    for idx in sample['phone_indexes']:\n",
    "        y[idx[0]:idx[1]] = 1\n",
    "    \n",
    "    if start == None:\n",
    "        start = np.random.randint(0, len(text) - 1)\n",
    "    end = start + l\n",
    "    \n",
    "    x = chars[start:end]\n",
    "    y = y[start:end]\n",
    "    \n",
    "    padding = l - len(x)\n",
    "    if padding > 0:\n",
    "        x = x + ([0] * padding)\n",
    "        y = np.pad(y, [(0, padding)], mode='constant')\n",
    "    \n",
    "    return (x, y)\n",
    "\n",
    "(x, y) = json2vec(samples[1])"
   ]
  },
  {
   "cell_type": "code",
   "execution_count": 9,
   "metadata": {},
   "outputs": [
    {
     "name": "stdout",
     "output_type": "stream",
     "text": [
      "26590\n"
     ]
    }
   ],
   "source": [
    "X = []\n",
    "Y = []\n",
    "for sample in samples:\n",
    "    for i in range(10):\n",
    "        (x, y) = json2vec(sample)\n",
    "        X.append(x)\n",
    "        Y.append(y)\n",
    "        \n",
    "print(len(X))"
   ]
  },
  {
   "cell_type": "code",
   "execution_count": 92,
   "metadata": {},
   "outputs": [],
   "source": [
    "inputs = Input(shape=(64,), name=\"input\")\n",
    "\n",
    "emb = x = Embedding(256, 4, input_length=64, name=\"embedding\")(inputs)\n",
    "\n",
    "x = Conv1D(32, 13, padding='same', activation='relu', name=\"conv1d-1\")(x)\n",
    "x = Dropout(0.1, name=\"dropout-1\")(x)\n",
    "aux = Concatenate(name=\"aux\")([x, emb])\n",
    "x = Conv1D(64, 13, padding='same', activation='relu', name=\"conv1d-2\")(aux)\n",
    "x = Dropout(0.1, name=\"dropout-2\")(x)\n",
    "\n",
    "x = Dense(1, activation='sigmoid', name=\"final-dense\")(x)\n",
    "predictions = Flatten()(x)\n",
    "\n",
    "model = Model(inputs = inputs, outputs=predictions)\n",
    "model.compile(loss='binary_crossentropy', optimizer='adam', metrics=['binary_accuracy'])"
   ]
  },
  {
   "cell_type": "code",
   "execution_count": 93,
   "metadata": {},
   "outputs": [
    {
     "name": "stdout",
     "output_type": "stream",
     "text": [
      "__________________________________________________________________________________________________\n",
      "Layer (type)                    Output Shape         Param #     Connected to                     \n",
      "==================================================================================================\n",
      "input (InputLayer)              (None, 64)           0                                            \n",
      "__________________________________________________________________________________________________\n",
      "embedding (Embedding)           (None, 64, 4)        1024        input[0][0]                      \n",
      "__________________________________________________________________________________________________\n",
      "conv1d-1 (Conv1D)               (None, 64, 32)       1696        embedding[0][0]                  \n",
      "__________________________________________________________________________________________________\n",
      "dropout-1 (Dropout)             (None, 64, 32)       0           conv1d-1[0][0]                   \n",
      "__________________________________________________________________________________________________\n",
      "aux (Concatenate)               (None, 64, 36)       0           dropout-1[0][0]                  \n",
      "                                                                 embedding[0][0]                  \n",
      "__________________________________________________________________________________________________\n",
      "conv1d-2 (Conv1D)               (None, 64, 64)       30016       aux[0][0]                        \n",
      "__________________________________________________________________________________________________\n",
      "dropout-2 (Dropout)             (None, 64, 64)       0           conv1d-2[0][0]                   \n",
      "__________________________________________________________________________________________________\n",
      "final-dense (Dense)             (None, 64, 1)        65          dropout-2[0][0]                  \n",
      "__________________________________________________________________________________________________\n",
      "flatten_28 (Flatten)            (None, 64)           0           final-dense[0][0]                \n",
      "==================================================================================================\n",
      "Total params: 32,801\n",
      "Trainable params: 32,801\n",
      "Non-trainable params: 0\n",
      "__________________________________________________________________________________________________\n"
     ]
    }
   ],
   "source": [
    "model.summary()"
   ]
  },
  {
   "cell_type": "code",
   "execution_count": 96,
   "metadata": {},
   "outputs": [
    {
     "name": "stdout",
     "output_type": "stream",
     "text": [
      "Train on 25260 samples, validate on 1330 samples\n",
      "Epoch 1/10\n",
      "25260/25260 [==============================] - 2s 86us/step - loss: 9.1146e-04 - binary_accuracy: 0.9997 - val_loss: 0.0031 - val_binary_accuracy: 0.9990\n",
      "Epoch 2/10\n",
      "25260/25260 [==============================] - 2s 86us/step - loss: 7.8333e-04 - binary_accuracy: 0.9997 - val_loss: 0.0041 - val_binary_accuracy: 0.9989\n",
      "Epoch 3/10\n",
      "25260/25260 [==============================] - 2s 86us/step - loss: 8.8155e-04 - binary_accuracy: 0.9997 - val_loss: 0.0043 - val_binary_accuracy: 0.9985\n",
      "Epoch 4/10\n",
      "25260/25260 [==============================] - 2s 86us/step - loss: 7.4898e-04 - binary_accuracy: 0.9997 - val_loss: 0.0036 - val_binary_accuracy: 0.9990\n",
      "Epoch 5/10\n",
      "25260/25260 [==============================] - 2s 86us/step - loss: 6.8119e-04 - binary_accuracy: 0.9998 - val_loss: 0.0035 - val_binary_accuracy: 0.9991\n",
      "Epoch 6/10\n",
      "25260/25260 [==============================] - 2s 86us/step - loss: 6.5599e-04 - binary_accuracy: 0.9998 - val_loss: 0.0032 - val_binary_accuracy: 0.9992\n",
      "Epoch 7/10\n",
      "25260/25260 [==============================] - 2s 86us/step - loss: 5.8010e-04 - binary_accuracy: 0.9998 - val_loss: 0.0060 - val_binary_accuracy: 0.9981\n",
      "Epoch 8/10\n",
      "25260/25260 [==============================] - 2s 86us/step - loss: 5.6699e-04 - binary_accuracy: 0.9998 - val_loss: 0.0041 - val_binary_accuracy: 0.9990\n",
      "Epoch 9/10\n",
      "25260/25260 [==============================] - 2s 86us/step - loss: 5.2211e-04 - binary_accuracy: 0.9998 - val_loss: 0.0038 - val_binary_accuracy: 0.9991\n",
      "Epoch 10/10\n",
      "25260/25260 [==============================] - 2s 86us/step - loss: 5.3155e-04 - binary_accuracy: 0.9998 - val_loss: 0.0037 - val_binary_accuracy: 0.9991\n"
     ]
    },
    {
     "data": {
      "text/plain": [
       "<keras.callbacks.History at 0x7f673e0823c8>"
      ]
     },
     "execution_count": 96,
     "metadata": {},
     "output_type": "execute_result"
    }
   ],
   "source": [
    "model.fit(np.array(X), np.array(Y), epochs=10, batch_size=64, validation_split=0.05,\n",
    "          shuffle=True)"
   ]
  },
  {
   "cell_type": "code",
   "execution_count": 14,
   "metadata": {},
   "outputs": [],
   "source": [
    "model.save_weights(\"model.h5\")"
   ]
  },
  {
   "cell_type": "markdown",
   "metadata": {},
   "source": [
    "## Визуализация полученных embedding'ов"
   ]
  },
  {
   "cell_type": "code",
   "execution_count": 19,
   "metadata": {},
   "outputs": [],
   "source": [
    "model.load_weights(\"model.h5\")"
   ]
  },
  {
   "cell_type": "code",
   "execution_count": 20,
   "metadata": {},
   "outputs": [],
   "source": [
    "weights = model.get_weights()[0]"
   ]
  },
  {
   "cell_type": "code",
   "execution_count": 22,
   "metadata": {},
   "outputs": [
    {
     "data": {
      "text/plain": [
       "[<matplotlib.lines.Line2D at 0x7f5da6e765f8>]"
      ]
     },
     "execution_count": 22,
     "metadata": {},
     "output_type": "execute_result"
    },
    {
     "data": {
      "image/png": "[encoded data removed]",
      "text/plain": [
       "<Figure size 432x288 with 1 Axes>"
      ]
     },
     "metadata": {
      "needs_background": "light"
     },
     "output_type": "display_data"
    }
   ],
   "source": [
    "import matplotlib.pyplot as plt\n",
    "\n",
    "for i in ['0', '1', '2', '3', '4', '5', '6', '7', '8', '9', '(', ')', '-', '+',\n",
    "          'l', 'Ч', 'O', 'О']:\n",
    "    code = ord(i.encode('cp1251'))\n",
    "    center = weights[code]\n",
    "    plt.annotate(i, center)\n",
    "\n",
    "#for i in range(250):\n",
    "#    try:\n",
    "#        c = array.array('B', [i]).tobytes().decode('cp1251')\n",
    "#        code = i\n",
    "\n",
    "#        center = weights[code]\n",
    "#        plt.annotate(c, center)\n",
    "#    except UnicodeDecodeError:\n",
    "#        pass\n",
    "\n",
    "plt.plot(weights[:, 0], weights[:, 1], 'r+')"
   ]
  },
  {
   "cell_type": "code",
   "execution_count": 23,
   "metadata": {},
   "outputs": [],
   "source": [
    "from IPython.core.display import HTML\n",
    "\n",
    "def mask_text(text, mask):\n",
    "    result = \"\"\n",
    "    text = array.array('B', text).tobytes().decode(\"cp1251\")\n",
    "    for i in range(len(text)):\n",
    "        if mask[i] > 0:\n",
    "            result += \"<b>\" + text[i] + \"</b>\"\n",
    "        else:\n",
    "            result += text[i]\n",
    "            \n",
    "    return \"<code>\" + result + \"</code>\"\n",
    "\n",
    "def vec2text(text):\n",
    "    return \"\".join([chr(i) for i in text])"
   ]
  },
  {
   "cell_type": "code",
   "execution_count": 41,
   "metadata": {},
   "outputs": [
    {
     "name": "stdout",
     "output_type": "stream",
     "text": [
      "{'phone_indexes': [], 'message': ' фото на ВОТСАП на номер 8(9OЧ)7738//////-О6l'}\n"
     ]
    },
    {
     "data": {
      "text/html": [
       "<code> фото на ВОТСАП на номер <b>8</b><b>(</b><b>9</b><b>O</b><b>Ч</b><b>)</b><b>7</b><b>7</b><b>3</b><b>8</b><b>/</b><b>/</b><b>/</b><b>/</b><b>/</b><b>/</b><b>-</b><b>О</b><b>6</b><b>l</b>\u0000\u0000\u0000\u0000\u0000\u0000\u0000\u0000\u0000\u0000\u0000\u0000\u0000\u0000\u0000\u0000\u0000\u0000\u0000</code>"
      ],
      "text/plain": [
       "<IPython.core.display.HTML object>"
      ]
     },
     "execution_count": 41,
     "metadata": {},
     "output_type": "execute_result"
    }
   ],
   "source": [
    "s = samples[41]\n",
    "s = {'phone_indexes': [], 'message': \" фото на ВОТСАП на номер 8(9OЧ)7738//////-О6l\"}\n",
    "print(s)\n",
    "\n",
    "(x, y) = json2vec(s, start=0)\n",
    "prediction = model.predict(np.array([x]))[0]\n",
    "mask = np.round(prediction)\n",
    "mask\n",
    "HTML(mask_text(x, mask))"
   ]
  },
  {
   "cell_type": "code",
   "execution_count": 43,
   "metadata": {},
   "outputs": [],
   "source": [
    "model.fit?"
   ]
  },
  {
   "cell_type": "code",
   "execution_count": 4,
   "metadata": {},
   "outputs": [
    {
     "name": "stdout",
     "output_type": "stream",
     "text": [
      "1\n",
      "4\n",
      "9\n",
      "16\n"
     ]
    }
   ],
   "source": [
    "def foo():\n",
    "    for i in [1,2,3,4]:\n",
    "        yield i\n",
    "        \n",
    "def p(x):\n",
    "    for i in x:\n",
    "        yield i**2\n",
    "        \n",
    "for i in p(foo()):\n",
    "    print(i)"
   ]
  }
 ],
 "metadata": {
  "kernelspec": {
   "display_name": "Python 3",
   "language": "python",
   "name": "python3"
  },
  "language_info": {
   "codemirror_mode": {
    "name": "ipython",
    "version": 3
   },
   "file_extension": ".py",
   "mimetype": "text/x-python",
   "name": "python",
   "nbconvert_exporter": "python",
   "pygments_lexer": "ipython3",
   "version": "3.5.2"
  }
 },
 "nbformat": 4,
 "nbformat_minor": 2
}
